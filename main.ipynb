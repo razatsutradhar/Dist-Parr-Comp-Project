{
 "cells": [
  {
   "cell_type": "code",
   "execution_count": 8,
   "metadata": {},
   "outputs": [
    {
     "name": "stdout",
     "output_type": "stream",
     "text": [
      "Min: 90 Max:189 Median: 139.0\n",
      "Min: 140 Max:239 Median: 191.0\n",
      "Min: 75 Max:174 Median: 128.5\n",
      "Min: 91 Max:190 Median: 139.0\n",
      "Min: 112 Max:211 Median: 161.0\n",
      "Min: 1 Max:100 Median: 48.0\n",
      "Min: 134 Max:233 Median: 184.0\n",
      "Min: 76 Max:175 Median: 127.0\n",
      "Min: 37 Max:136 Median: 86.5\n",
      "Min: 5 Max:104 Median: 53.5\n"
     ]
    }
   ],
   "source": [
    "import numpy as np\n",
    "\n",
    "class Worker:\n",
    "    def __init__(self, id):\n",
    "        self.id = id\n",
    "        lower = np.random.randint(0,200)\n",
    "        self.data = np.random.randint(lower, lower+100, 1000)\n",
    "\n",
    "    def get_median(self):\n",
    "        return np.median(self.data)\n",
    "    \n",
    "    def lower_count(self, value):\n",
    "        return len(self.data[self.data < value])\n",
    "    \n",
    "    def upper_count(self, value):\n",
    "        return len(self.data[self.data > value])\n",
    "\n",
    "    def __str__(self):\n",
    "        return f'Min: {np.min(self.data)} Max:{np.max(self.data)} Median: {self.get_median()}'\n",
    "\n",
    "    def __repr__(self):\n",
    "        return f'Min: {np.min(self.data)} Max:{np.max(self.data)} Median: {self.get_median()}'\n",
    "\n",
    "    def __hash__(self):\n",
    "        return hash(self.id)\n",
    "    \n",
    "\n",
    "workers = []\n",
    "\n",
    "for i in range(10):\n",
    "    workers.append(Worker(i))\n",
    "    print(workers[i])"
   ]
  },
  {
   "cell_type": "code",
   "execution_count": 14,
   "metadata": {},
   "outputs": [
    {
     "name": "stdout",
     "output_type": "stream",
     "text": [
      "Median of medians: 133.75\n",
      "Lower count of medians: 5192\n",
      "Upper count of medians: 4808\n"
     ]
    }
   ],
   "source": [
    "def get_all_medians(workers):\n",
    "    return [worker.get_median() for worker in workers]\n",
    "\n",
    "def get_all_lower_counts(workers, value):\n",
    "    return [worker.lower_count(value) for worker in workers]\n",
    "\n",
    "def get_all_upper_counts(workers, value):\n",
    "    return [worker.upper_count(value) for worker in workers]\n",
    "\n",
    "\n",
    "\n",
    "median_2 = np.median(get_all_medians(workers))\n",
    "print(f'Median of medians: {median_2}')\n",
    "\n",
    "lower_count_2 = np.sum(get_all_lower_counts(workers, median_2))\n",
    "print(f'Lower count of medians: {lower_count_2}')\n",
    "\n",
    "upper_count_2 = np.sum(get_all_upper_counts(workers, median_2))\n",
    "print(f'Upper count of medians: {upper_count_2}')"
   ]
  }
 ],
 "metadata": {
  "kernelspec": {
   "display_name": "Python 3",
   "language": "python",
   "name": "python3"
  },
  "language_info": {
   "codemirror_mode": {
    "name": "ipython",
    "version": 3
   },
   "file_extension": ".py",
   "mimetype": "text/x-python",
   "name": "python",
   "nbconvert_exporter": "python",
   "pygments_lexer": "ipython3",
   "version": "3.10.2"
  }
 },
 "nbformat": 4,
 "nbformat_minor": 2
}
