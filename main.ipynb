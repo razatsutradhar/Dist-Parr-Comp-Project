{
 "cells": [
  {
   "cell_type": "code",
   "execution_count": 1,
   "metadata": {},
   "outputs": [
    {
     "name": "stdout",
     "output_type": "stream",
     "text": [
      "Min: 197 Max:296 Median: 246.5\n",
      "Min: 48 Max:147 Median: 98.0\n",
      "Min: 21 Max:120 Median: 71.0\n",
      "Min: 19 Max:118 Median: 69.0\n",
      "Min: 93 Max:192 Median: 138.0\n",
      "Min: 106 Max:205 Median: 157.0\n",
      "Min: 91 Max:190 Median: 141.5\n",
      "Min: 187 Max:286 Median: 235.0\n",
      "Min: 103 Max:202 Median: 151.5\n",
      "Min: 61 Max:160 Median: 112.0\n"
     ]
    }
   ],
   "source": [
    "import numpy as np\n",
    "\n",
    "class Worker:\n",
    "    def __init__(self, id):\n",
    "        self.id = id\n",
    "        lower = np.random.randint(0,200)\n",
    "        self.data = np.random.randint(lower, lower+100, 1000)\n",
    "\n",
    "    def get_median(self):\n",
    "        return np.median(self.data)\n",
    "    \n",
    "    def lower_count(self, value):\n",
    "        return len(self.data[self.data < value])\n",
    "    \n",
    "    def upper_count(self, value):\n",
    "        return len(self.data[self.data > value])\n",
    "\n",
    "    def __str__(self):\n",
    "        return f'Min: {np.min(self.data)} Max:{np.max(self.data)} Median: {self.get_median()}'\n",
    "\n",
    "    def __repr__(self):\n",
    "        return f'Min: {np.min(self.data)} Max:{np.max(self.data)} Median: {self.get_median()}'\n",
    "\n",
    "    def __hash__(self):\n",
    "        return hash(self.id)\n",
    "    \n",
    "\n",
    "workers = []\n",
    "\n",
    "for i in range(10):\n",
    "    workers.append(Worker(i))\n",
    "    print(workers[i])"
   ]
  },
  {
   "cell_type": "code",
   "execution_count": 2,
   "metadata": {},
   "outputs": [
    {
     "name": "stdout",
     "output_type": "stream",
     "text": [
      "Median of medians: 139.75\n",
      "Lower count of medians: 5397\n",
      "Upper count of medians: 4603\n"
     ]
    }
   ],
   "source": [
    "def get_all_medians(workers):\n",
    "    return [worker.get_median() for worker in workers]\n",
    "\n",
    "def get_all_lower_counts(workers, value):\n",
    "    return [worker.lower_count(value) for worker in workers]\n",
    "\n",
    "def get_all_upper_counts(workers, value):\n",
    "    return [worker.upper_count(value) for worker in workers]\n",
    "\n",
    "\n",
    "\n",
    "median_2 = np.median(get_all_medians(workers))\n",
    "print(f'Median of medians: {median_2}')\n",
    "\n",
    "lower_count_2 = np.sum(get_all_lower_counts(workers, median_2))\n",
    "print(f'Lower count of medians: {lower_count_2}')\n",
    "\n",
    "upper_count_2 = np.sum(get_all_upper_counts(workers, median_2))\n",
    "print(f'Upper count of medians: {upper_count_2}')"
   ]
  }
 ],
 "metadata": {
  "kernelspec": {
   "display_name": "Python 3",
   "language": "python",
   "name": "python3"
  },
  "language_info": {
   "codemirror_mode": {
    "name": "ipython",
    "version": 3
   },
   "file_extension": ".py",
   "mimetype": "text/x-python",
   "name": "python",
   "nbconvert_exporter": "python",
   "pygments_lexer": "ipython3",
   "version": "3.10.2"
  }
 },
 "nbformat": 4,
 "nbformat_minor": 2
}
